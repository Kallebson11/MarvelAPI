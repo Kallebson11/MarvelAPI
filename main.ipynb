{
 "cells": [
  {
   "cell_type": "code",
   "execution_count": null,
   "id": "d5cc7109",
   "metadata": {},
   "outputs": [],
   "source": [
    "import requests\n",
    "import time\n",
    "import hashlib\n",
    "from decouple import config"
   ]
  },
  {
   "cell_type": "code",
   "execution_count": null,
   "id": "83cf993b",
   "metadata": {},
   "outputs": [],
   "source": [
    "timestamp_atual = str(time.time())\n",
    "print(timestamp_atual)"
   ]
  },
  {
   "cell_type": "code",
   "execution_count": null,
   "id": "1ed77d0c",
   "metadata": {},
   "outputs": [],
   "source": [
    "pubk = config('pubk')\n",
    "pvk = config('pvk')"
   ]
  },
  {
   "cell_type": "code",
   "execution_count": null,
   "id": "b870b4d1",
   "metadata": {},
   "outputs": [],
   "source": [
    "md5_hash = hashlib.md5()\n",
    "md5_hash.update(bytes(timestamp_atual, 'utf-8'))\n",
    "md5_hash.update(bytes(pvk, 'utf-8'))\n",
    "md5_hash.update(bytes(pubk, 'utf-8'))\n",
    "md5 = md5_hash.hexdigest()"
   ]
  },
  {
   "cell_type": "code",
   "execution_count": null,
   "id": "baec457d",
   "metadata": {},
   "outputs": [],
   "source": [
    "URL = f\"https://gateway.marvel.com/v1/public/characters?apikey={pubk}&hash={md5}&ts={timestamp_atual}&limit=6\""
   ]
  },
  {
   "cell_type": "code",
   "execution_count": null,
   "id": "15ab4e78",
   "metadata": {},
   "outputs": [],
   "source": [
    "dados = requests.get(URL).json()"
   ]
  }
 ],
 "metadata": {
  "kernelspec": {
   "display_name": "Marvel_env (3.13.7)",
   "language": "python",
   "name": "python3"
  },
  "language_info": {
   "codemirror_mode": {
    "name": "ipython",
    "version": 3
   },
   "file_extension": ".py",
   "mimetype": "text/x-python",
   "name": "python",
   "nbconvert_exporter": "python",
   "pygments_lexer": "ipython3",
   "version": "3.13.7"
  }
 },
 "nbformat": 4,
 "nbformat_minor": 5
}
