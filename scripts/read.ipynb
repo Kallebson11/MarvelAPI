{
 "cells": [
  {
   "cell_type": "code",
   "execution_count": null,
   "id": "7f197562",
   "metadata": {},
   "outputs": [],
   "source": [
    "import json\n",
    "import pandas as pd\n",
    "import function as f\n",
    "import pyodbc\n",
    "from datetime import datetime"
   ]
  },
  {
   "cell_type": "code",
   "execution_count": null,
   "id": "a4498357",
   "metadata": {},
   "outputs": [],
   "source": [
    "try:\n",
    "    conexao, cursor = f.Conexion(database=\"MarvelAPI\")\n",
    "    print(\"Conexão bem-sucedida!\")\n",
    "except pyodbc.Error as e:\n",
    "    print(f\"Erro ao conectar: {e}\")"
   ]
  },
  {
   "cell_type": "code",
   "execution_count": null,
   "id": "dc54740c",
   "metadata": {},
   "outputs": [],
   "source": [
    "\n",
    "def extrair_nomes_descricoes(arquivo_path):\n",
    "    with open(arquivo_path, 'r', encoding='utf-8') as f:\n",
    "        dados = json.load(f)\n",
    "    \n",
    "    for item in dados:\n",
    "        if isinstance(item.get('data'), list):\n",
    "            personagens = item['data']\n",
    "            break\n",
    "\n",
    "    nomes_descricoes = []\n",
    "    for personagem in personagens:\n",
    "        nomes_descricoes.append({\n",
    "            'id': personagem.get('id'),\n",
    "            'nome': personagem.get('name'),\n",
    "            'descricao': personagem.get('description', 'Sem descrição')\n",
    "        })\n",
    "    \n",
    "    c = 0\n",
    "    while c < len(nomes_descricoes):\n",
    "        id = (nomes_descricoes)[c]['id']\n",
    "        heros = (nomes_descricoes)[c]['nome']\n",
    "        descricao = (nomes_descricoes)[c]['descricao']\n",
    "        data = datetime.now()\n",
    "        try:\n",
    "            cursor.execute(f'''\n",
    "                       INSERT INTO marvel.Heroes (id, nome, descricao, data_download)\n",
    "                       VALUES\n",
    "                       (?, ?, ?, ?)\n",
    "                       ''', id, heros, descricao, data)\n",
    "        except pyodbc.Error as e:\n",
    "            print(f\"Erro = {e}\")\n",
    "        c += 1\n",
    "        #print(f\"Nome = {heros}\\nDescrição = {descricao}\\nID = {id}\\n\")\n",
    "    \n",
    "    df = pd.DataFrame(nomes_descricoes)\n",
    "    return df\n",
    "\n",
    "df_simples = extrair_nomes_descricoes(r'C:\\Users\\KallebeDanielGuedesA\\Documents\\MeusProjetosGit\\MarvelAPI\\data\\characters2.json')"
   ]
  },
  {
   "cell_type": "code",
   "execution_count": null,
   "id": "f3af4508",
   "metadata": {},
   "outputs": [],
   "source": [
    "conexao.commit()\n",
    "conexao.close()\n",
    "cursor.commit()\n",
    "conexao.close()"
   ]
  }
 ],
 "metadata": {
  "kernelspec": {
   "display_name": "Marvel_env (3.13.7)",
   "language": "python",
   "name": "python3"
  },
  "language_info": {
   "codemirror_mode": {
    "name": "ipython",
    "version": 3
   },
   "file_extension": ".py",
   "mimetype": "text/x-python",
   "name": "python",
   "nbconvert_exporter": "python",
   "pygments_lexer": "ipython3",
   "version": "3.13.7"
  }
 },
 "nbformat": 4,
 "nbformat_minor": 5
}
