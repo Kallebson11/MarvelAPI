{
 "cells": [
  {
   "cell_type": "code",
   "execution_count": 2,
   "id": "d5cc7109",
   "metadata": {},
   "outputs": [],
   "source": [
    "import requests\n",
    "import time\n",
    "import hashlib\n",
    "from decouple import config\n",
    "import pandas as pd\n",
    "import json\n",
    "from datetime import datetime"
   ]
  },
  {
   "cell_type": "markdown",
   "id": "d0301417",
   "metadata": {},
   "source": [
    "Geração do timestamp"
   ]
  },
  {
   "cell_type": "code",
   "execution_count": 3,
   "id": "83cf993b",
   "metadata": {},
   "outputs": [],
   "source": [
    "timestamp_atual = str(time.time())"
   ]
  },
  {
   "cell_type": "markdown",
   "id": "fda40e37",
   "metadata": {},
   "source": [
    "Declaração das chaves"
   ]
  },
  {
   "cell_type": "code",
   "execution_count": 4,
   "id": "1ed77d0c",
   "metadata": {},
   "outputs": [],
   "source": [
    "pubk = config('pubk')\n",
    "pvk = config('pvk')"
   ]
  },
  {
   "cell_type": "markdown",
   "id": "dbbfbaf3",
   "metadata": {},
   "source": [
    "Criação do md5_hash"
   ]
  },
  {
   "cell_type": "code",
   "execution_count": 5,
   "id": "b870b4d1",
   "metadata": {},
   "outputs": [],
   "source": [
    "md5_hash = hashlib.md5()\n",
    "md5_hash.update(bytes(timestamp_atual, 'utf-8'))\n",
    "md5_hash.update(bytes(pvk, 'utf-8'))\n",
    "md5_hash.update(bytes(pubk, 'utf-8'))\n",
    "md5 = md5_hash.hexdigest()"
   ]
  },
  {
   "cell_type": "markdown",
   "id": "dcb50149",
   "metadata": {},
   "source": [
    "URL"
   ]
  },
  {
   "cell_type": "code",
   "execution_count": null,
   "id": "9bdf0e07",
   "metadata": {},
   "outputs": [],
   "source": [
    "URL = f\"https://gateway.marvel.com/v1/public/comics?apikey={pubk}&hash={md5}&ts={timestamp_atual}&limit=50\""
   ]
  },
  {
   "cell_type": "markdown",
   "id": "63291d17",
   "metadata": {},
   "source": [
    "Função para salvar os dados em formato JSON"
   ]
  },
  {
   "cell_type": "code",
   "execution_count": null,
   "id": "e02c4673",
   "metadata": {},
   "outputs": [],
   "source": [
    "\"\"\"usar timestamp para o controle de data\"\"\""
   ]
  },
  {
   "cell_type": "code",
   "execution_count": 14,
   "id": "b6af0299",
   "metadata": {},
   "outputs": [
    {
     "name": "stdout",
     "output_type": "stream",
     "text": [
      "Total de requisições feitas: 3\n",
      "Dados salvos com sucesso! Total de registros: 5\n"
     ]
    }
   ],
   "source": [
    "try:\n",
    "    with open(\"contador.json\", \"r\") as f:\n",
    "        contador_requisicoes = json.load(f)\n",
    "except FileNotFoundError:\n",
    "    contador_requisicoes = 0\n",
    "\n",
    "# Função que recebe a URL e o nome do arquivo como parâmetro\n",
    "def salvar_dados_api(URL, nome_arquivo):\n",
    "    global contador_requisicoes\n",
    "    \n",
    "    try:\n",
    "        # Faz a requisição da API e armazena em uma variável\n",
    "        dados = requests.get(URL).json()\n",
    "        \n",
    "        # Incrementa o contador\n",
    "        contador_requisicoes += 1\n",
    "        \n",
    "        # Salva o contador no arquivo\n",
    "        with open(\"contador.json\", \"w\") as f:\n",
    "            json.dump(contador_requisicoes, f)\n",
    "        \n",
    "        # Criando um dataframe com o variável \"dados\"\n",
    "        df = pd.DataFrame(dados)\n",
    "        \n",
    "        # Criação da coluna \"data_download\" para marcar a hora que foi realizada requisição\n",
    "        df['data_download'] = datetime.now().strftime('%Y-%m-%d %H:%M:%S')\n",
    "        \n",
    "        # Salvar em JSON\n",
    "        df.to_json(f'{nome_arquivo}.json', orient='records', indent=4)\n",
    "        \n",
    "        print(f\"Total de requisições feitas: {contador_requisicoes}\")\n",
    "        print(f\"Dados salvos com sucesso! Total de registros: {len(df)}\")\n",
    "        return df\n",
    "    \n",
    "    # Tratamento de erros \n",
    "    except requests.exceptions.RequestException as e:\n",
    "        print(f\"Erro na requisição: {e}\")\n",
    "    except json.JSONDecodeError as e:\n",
    "        print(f\"Erro ao decodificar JSON: {e}\")\n",
    "    except Exception as e:\n",
    "        print(f\"Erro inesperado: {e}\")\n",
    "        \n",
    "\n",
    "\n",
    "# Requisição \n",
    "dados_salvos = salvar_dados_api(URL, \"characters\")"
   ]
  }
 ],
 "metadata": {
  "kernelspec": {
   "display_name": "Marvel_env (3.13.7)",
   "language": "python",
   "name": "python3"
  },
  "language_info": {
   "codemirror_mode": {
    "name": "ipython",
    "version": 3
   },
   "file_extension": ".py",
   "mimetype": "text/x-python",
   "name": "python",
   "nbconvert_exporter": "python",
   "pygments_lexer": "ipython3",
   "version": "3.13.7"
  }
 },
 "nbformat": 4,
 "nbformat_minor": 5
}
