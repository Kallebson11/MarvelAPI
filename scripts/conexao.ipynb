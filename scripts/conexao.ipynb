{
 "cells": [
  {
   "cell_type": "code",
   "execution_count": 16,
   "id": "d5cc7109",
   "metadata": {},
   "outputs": [],
   "source": [
    "import requests\n",
    "import time\n",
    "import hashlib\n",
    "from decouple import config\n",
    "import pandas as pd\n",
    "import json\n",
    "from datetime import datetime"
   ]
  },
  {
   "cell_type": "code",
   "execution_count": 17,
   "id": "83cf993b",
   "metadata": {},
   "outputs": [],
   "source": [
    "timestamp_atual = str(time.time())"
   ]
  },
  {
   "cell_type": "code",
   "execution_count": 18,
   "id": "1ed77d0c",
   "metadata": {},
   "outputs": [],
   "source": [
    "pubk = config('pubk')\n",
    "pvk = config('pvk')"
   ]
  },
  {
   "cell_type": "code",
   "execution_count": 19,
   "id": "b870b4d1",
   "metadata": {},
   "outputs": [],
   "source": [
    "md5_hash = hashlib.md5()\n",
    "md5_hash.update(bytes(timestamp_atual, 'utf-8'))\n",
    "md5_hash.update(bytes(pvk, 'utf-8'))\n",
    "md5_hash.update(bytes(pubk, 'utf-8'))\n",
    "md5 = md5_hash.hexdigest()"
   ]
  },
  {
   "cell_type": "code",
   "execution_count": 20,
   "id": "b6af0299",
   "metadata": {},
   "outputs": [
    {
     "name": "stdout",
     "output_type": "stream",
     "text": [
      "Dados salvos com sucesso! Total de registros: 5\n"
     ]
    }
   ],
   "source": [
    "def salvar_dados_api(URL, nome_arquivo):\n",
    "    try:\n",
    "        dados = requests.get(URL).json()\n",
    "        \n",
    "        df = pd.DataFrame(dados)\n",
    "        \n",
    "        df['data_download'] = datetime.now().strftime('%Y-%m-%d %H:%M:%S')\n",
    "        \n",
    "        # Salvar em JSON\n",
    "        df.to_json(f'{nome_arquivo}.json', orient='records', indent=4)\n",
    "        \n",
    "        print(f\"Dados salvos com sucesso! Total de registros: {len(df)}\")\n",
    "        return df\n",
    "        \n",
    "    except requests.exceptions.RequestException as e:\n",
    "        print(f\"Erro na requisição: {e}\")\n",
    "    except json.JSONDecodeError as e:\n",
    "        print(f\"Erro ao decodificar JSON: {e}\")\n",
    "    except Exception as e:\n",
    "        print(f\"Erro inesperado: {e}\")\n",
    "\n",
    "# Exemplo de uso\n",
    "URL = f\"https://gateway.marvel.com/v1/public/characters?apikey={pubk}&hash={md5}&ts={timestamp_atual}&limit=50\"\n",
    "dados_salvos = salvar_dados_api(URL, \"characters\")"
   ]
  }
 ],
 "metadata": {
  "kernelspec": {
   "display_name": "Marvel_env (3.13.7)",
   "language": "python",
   "name": "python3"
  },
  "language_info": {
   "codemirror_mode": {
    "name": "ipython",
    "version": 3
   },
   "file_extension": ".py",
   "mimetype": "text/x-python",
   "name": "python",
   "nbconvert_exporter": "python",
   "pygments_lexer": "ipython3",
   "version": "3.13.7"
  }
 },
 "nbformat": 4,
 "nbformat_minor": 5
}
